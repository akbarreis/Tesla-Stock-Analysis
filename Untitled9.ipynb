{
 "cells": [
  {
   "cell_type": "code",
   "execution_count": 2,
   "id": "7896b498-4035-4caa-b82f-5e0a5cb16353",
   "metadata": {},
   "outputs": [],
   "source": [
    "import pandas as pd\n",
    "import matplotlib.pyplot as plt\n"
   ]
  },
  {
   "cell_type": "code",
   "execution_count": 3,
   "id": "e8308591-3cea-4d00-b279-00eba1a65fd0",
   "metadata": {},
   "outputs": [],
   "source": [
    "df = pd.read_csv('Excel.csv')"
   ]
  },
  {
   "cell_type": "code",
   "execution_count": 4,
   "id": "b23b9e8d-9ae4-4681-8dbe-8387f2296e26",
   "metadata": {},
   "outputs": [
    {
     "data": {
      "text/plain": [
       "[<matplotlib.lines.Line2D at 0x23208b7d700>]"
      ]
     },
     "execution_count": 4,
     "metadata": {},
     "output_type": "execute_result"
    },
    {
     "data": {
      "image/png": "[encoded data removed]",
      "text/plain": [
       "<Figure size 720x360 with 1 Axes>"
      ]
     },
     "metadata": {
      "needs_background": "light"
     },
     "output_type": "display_data"
    }
   ],
   "source": [
    "plt.figure(figsize = (10,5))\n",
    "plt.plot(df['Курс'])\n"
   ]
  },
  {
   "cell_type": "code",
   "execution_count": 5,
   "id": "2aad0394-c533-4f54-ba09-5e3a2506fdbf",
   "metadata": {},
   "outputs": [
    {
     "data": {
      "text/html": [
       "<div>\n",
       "<style scoped>\n",
       "    .dataframe tbody tr th:only-of-type {\n",
       "        vertical-align: middle;\n",
       "    }\n",
       "\n",
       "    .dataframe tbody tr th {\n",
       "        vertical-align: top;\n",
       "    }\n",
       "\n",
       "    .dataframe thead th {\n",
       "        text-align: right;\n",
       "    }\n",
       "</style>\n",
       "<table border=\"1\" class=\"dataframe\">\n",
       "  <thead>\n",
       "    <tr style=\"text-align: right;\">\n",
       "      <th></th>\n",
       "      <th>Курс</th>\n",
       "      <th>Дата</th>\n",
       "    </tr>\n",
       "  </thead>\n",
       "  <tbody>\n",
       "    <tr>\n",
       "      <th>0</th>\n",
       "      <td>381.180000</td>\n",
       "      <td>...</td>\n",
       "    </tr>\n",
       "    <tr>\n",
       "      <th>1</th>\n",
       "      <td>382.590000</td>\n",
       "      <td>1/2/2020</td>\n",
       "    </tr>\n",
       "    <tr>\n",
       "      <th>2</th>\n",
       "      <td>382.590000</td>\n",
       "      <td>1/3/2020</td>\n",
       "    </tr>\n",
       "    <tr>\n",
       "      <th>3</th>\n",
       "      <td>382.590000</td>\n",
       "      <td>1/4/2020</td>\n",
       "    </tr>\n",
       "    <tr>\n",
       "      <th>4</th>\n",
       "      <td>382.590000</td>\n",
       "      <td>1/5/2020</td>\n",
       "    </tr>\n",
       "    <tr>\n",
       "      <th>...</th>\n",
       "      <td>...</td>\n",
       "      <td>...</td>\n",
       "    </tr>\n",
       "    <tr>\n",
       "      <th>362</th>\n",
       "      <td>434.495146</td>\n",
       "      <td>12/27/2020</td>\n",
       "    </tr>\n",
       "    <tr>\n",
       "      <th>363</th>\n",
       "      <td>434.611092</td>\n",
       "      <td>12/28/2020</td>\n",
       "    </tr>\n",
       "    <tr>\n",
       "      <th>364</th>\n",
       "      <td>434.727037</td>\n",
       "      <td>12/29/2020</td>\n",
       "    </tr>\n",
       "    <tr>\n",
       "      <th>365</th>\n",
       "      <td>434.842982</td>\n",
       "      <td>12/30/2020</td>\n",
       "    </tr>\n",
       "    <tr>\n",
       "      <th>366</th>\n",
       "      <td>434.958927</td>\n",
       "      <td>12/31/2020</td>\n",
       "    </tr>\n",
       "  </tbody>\n",
       "</table>\n",
       "<p>367 rows × 2 columns</p>\n",
       "</div>"
      ],
      "text/plain": [
       "           Курс                                               Дата\n",
       "0    381.180000                                                ...\n",
       "1    382.590000                                           1/2/2020\n",
       "2    382.590000                                           1/3/2020\n",
       "3    382.590000                                           1/4/2020\n",
       "4    382.590000                                           1/5/2020\n",
       "..          ...                                                ...\n",
       "362  434.495146                                         12/27/2020\n",
       "363  434.611092                                         12/28/2020\n",
       "364  434.727037                                         12/29/2020\n",
       "365  434.842982                                         12/30/2020\n",
       "366  434.958927                                         12/31/2020\n",
       "\n",
       "[367 rows x 2 columns]"
      ]
     },
     "execution_count": 5,
     "metadata": {},
     "output_type": "execute_result"
    }
   ],
   "source": [
    "df"
   ]
  },
  {
   "cell_type": "code",
   "execution_count": 6,
   "id": "15fed532-543d-4b20-aa35-fd2c07d3fb26",
   "metadata": {},
   "outputs": [],
   "source": [
    "df1 = pd.read_csv('Excel-evro (2).csv')"
   ]
  },
  {
   "cell_type": "code",
   "execution_count": 7,
   "id": "36efcda1-b183-416b-bc18-f385b619a3c6",
   "metadata": {},
   "outputs": [],
   "source": [
    "df1 = df1[1:]"
   ]
  },
  {
   "cell_type": "code",
   "execution_count": 8,
   "id": "4e51b448-8e7b-4f25-beb8-24d01e811efb",
   "metadata": {},
   "outputs": [],
   "source": [
    "df1.reset_index(inplace=True)"
   ]
  },
  {
   "cell_type": "code",
   "execution_count": 9,
   "id": "cf0132d7-317d-4659-916b-2938c80bf660",
   "metadata": {},
   "outputs": [],
   "source": [
    "del df1['index']"
   ]
  },
  {
   "cell_type": "code",
   "execution_count": 10,
   "id": "342b657e-a96a-4d3c-b7b3-b35b2694f4b2",
   "metadata": {},
   "outputs": [],
   "source": [
    "df1\n",
    "df1 = df1.rename(columns={'Unnamed: 0' : 'Курс', 'Unnamed: 1' : 'Дата'})"
   ]
  },
  {
   "cell_type": "code",
   "execution_count": 11,
   "id": "52a2e719-5adf-4ba2-a4ec-594c6f929e46",
   "metadata": {},
   "outputs": [
    {
     "data": {
      "text/html": [
       "<div>\n",
       "<style scoped>\n",
       "    .dataframe tbody tr th:only-of-type {\n",
       "        vertical-align: middle;\n",
       "    }\n",
       "\n",
       "    .dataframe tbody tr th {\n",
       "        vertical-align: top;\n",
       "    }\n",
       "\n",
       "    .dataframe thead th {\n",
       "        text-align: right;\n",
       "    }\n",
       "</style>\n",
       "<table border=\"1\" class=\"dataframe\">\n",
       "  <thead>\n",
       "    <tr style=\"text-align: right;\">\n",
       "      <th></th>\n",
       "      <th>Курс</th>\n",
       "      <th>Дата</th>\n",
       "    </tr>\n",
       "  </thead>\n",
       "  <tbody>\n",
       "    <tr>\n",
       "      <th>0</th>\n",
       "      <td>426.85</td>\n",
       "      <td>1/1/2020</td>\n",
       "    </tr>\n",
       "    <tr>\n",
       "      <th>1</th>\n",
       "      <td>429.00</td>\n",
       "      <td>1/2/2020</td>\n",
       "    </tr>\n",
       "    <tr>\n",
       "      <th>2</th>\n",
       "      <td>429.00</td>\n",
       "      <td>1/3/2020</td>\n",
       "    </tr>\n",
       "    <tr>\n",
       "      <th>3</th>\n",
       "      <td>429.00</td>\n",
       "      <td>1/4/2020</td>\n",
       "    </tr>\n",
       "    <tr>\n",
       "      <th>4</th>\n",
       "      <td>429.00</td>\n",
       "      <td>1/5/2020</td>\n",
       "    </tr>\n",
       "    <tr>\n",
       "      <th>...</th>\n",
       "      <td>...</td>\n",
       "      <td>...</td>\n",
       "    </tr>\n",
       "    <tr>\n",
       "      <th>362</th>\n",
       "      <td>511.08</td>\n",
       "      <td>12/28/2020</td>\n",
       "    </tr>\n",
       "    <tr>\n",
       "      <th>363</th>\n",
       "      <td>514.26</td>\n",
       "      <td>12/29/2020</td>\n",
       "    </tr>\n",
       "    <tr>\n",
       "      <th>364</th>\n",
       "      <td>515.00</td>\n",
       "      <td>12/30/2020</td>\n",
       "    </tr>\n",
       "    <tr>\n",
       "      <th>365</th>\n",
       "      <td>516.13</td>\n",
       "      <td>12/31/2020</td>\n",
       "    </tr>\n",
       "    <tr>\n",
       "      <th>366</th>\n",
       "      <td>516.79</td>\n",
       "      <td>1/1/2021</td>\n",
       "    </tr>\n",
       "  </tbody>\n",
       "</table>\n",
       "<p>367 rows × 2 columns</p>\n",
       "</div>"
      ],
      "text/plain": [
       "       Курс        Дата\n",
       "0    426.85    1/1/2020\n",
       "1    429.00    1/2/2020\n",
       "2    429.00    1/3/2020\n",
       "3    429.00    1/4/2020\n",
       "4    429.00    1/5/2020\n",
       "..      ...         ...\n",
       "362  511.08  12/28/2020\n",
       "363  514.26  12/29/2020\n",
       "364  515.00  12/30/2020\n",
       "365  516.13  12/31/2020\n",
       "366  516.79    1/1/2021\n",
       "\n",
       "[367 rows x 2 columns]"
      ]
     },
     "execution_count": 11,
     "metadata": {},
     "output_type": "execute_result"
    }
   ],
   "source": [
    "df1"
   ]
  },
  {
   "cell_type": "code",
   "execution_count": 12,
   "id": "9c3a636a-2dc2-41fc-a75d-81f7f3f8e83d",
   "metadata": {},
   "outputs": [
    {
     "data": {
      "text/plain": [
       "[<matplotlib.lines.Line2D at 0x23208cbe130>]"
      ]
     },
     "execution_count": 12,
     "metadata": {},
     "output_type": "execute_result"
    },
    {
     "data": {
      "image/png": "[encoded data removed]",
      "text/plain": [
       "<Figure size 720x360 with 1 Axes>"
      ]
     },
     "metadata": {
      "needs_background": "light"
     },
     "output_type": "display_data"
    }
   ],
   "source": [
    "plt.figure(figsize = (10,5))\n",
    "plt.plot(df1['Курс'])"
   ]
  },
  {
   "cell_type": "code",
   "execution_count": 1,
   "id": "c9742153-079a-432f-9cbd-c4fef39aef39",
   "metadata": {},
   "outputs": [
    {
     "ename": "NameError",
     "evalue": "name 'pd' is not defined",
     "output_type": "error",
     "traceback": [
      "\u001b[1;31m---------------------------------------------------------------------------\u001b[0m",
      "\u001b[1;31mNameError\u001b[0m                                 Traceback (most recent call last)",
      "\u001b[1;32m<ipython-input-1-233f9391329a>\u001b[0m in \u001b[0;36m<module>\u001b[1;34m\u001b[0m\n\u001b[1;32m----> 1\u001b[1;33m \u001b[0mdf\u001b[0m \u001b[1;33m=\u001b[0m \u001b[0mpd\u001b[0m\u001b[1;33m.\u001b[0m\u001b[0mreal_cvs\u001b[0m\u001b[1;33m(\u001b[0m\u001b[1;34m'Excel.csv'\u001b[0m\u001b[1;33m)\u001b[0m\u001b[1;33m\u001b[0m\u001b[1;33m\u001b[0m\u001b[0m\n\u001b[0m",
      "\u001b[1;31mNameError\u001b[0m: name 'pd' is not defined"
     ]
    }
   ],
   "source": [
    "df = pd.real_cvs('Excel.csv')"
   ]
  },
  {
   "cell_type": "code",
   "execution_count": 2,
   "id": "6109f9c0-2d56-4c0d-a8be-746ab5a9eb8d",
   "metadata": {},
   "outputs": [
    {
     "ename": "NameError",
     "evalue": "name 'df' is not defined",
     "output_type": "error",
     "traceback": [
      "\u001b[1;31m---------------------------------------------------------------------------\u001b[0m",
      "\u001b[1;31mNameError\u001b[0m                                 Traceback (most recent call last)",
      "\u001b[1;32m<ipython-input-2-77e56053943e>\u001b[0m in \u001b[0;36m<module>\u001b[1;34m\u001b[0m\n\u001b[1;32m----> 1\u001b[1;33m \u001b[0mprint\u001b[0m\u001b[1;33m(\u001b[0m\u001b[1;34m\"Maximum USD:\"\u001b[0m\u001b[1;33m,\u001b[0m\u001b[0mdf\u001b[0m\u001b[1;33m[\u001b[0m\u001b[1;34m\"Курс\"\u001b[0m\u001b[1;33m]\u001b[0m\u001b[1;33m.\u001b[0m\u001b[0mmax\u001b[0m\u001b[1;33m(\u001b[0m\u001b[1;33m)\u001b[0m\u001b[1;33m)\u001b[0m\u001b[1;33m\u001b[0m\u001b[1;33m\u001b[0m\u001b[0m\n\u001b[0m\u001b[0;32m      2\u001b[0m \u001b[0mprint\u001b[0m\u001b[1;33m(\u001b[0m\u001b[1;34m\"Minimum USD:\"\u001b[0m\u001b[1;33m,\u001b[0m\u001b[0mdf\u001b[0m\u001b[1;33m[\u001b[0m\u001b[1;34m\"Курс\"\u001b[0m\u001b[1;33m]\u001b[0m\u001b[1;33m.\u001b[0m\u001b[0mmin\u001b[0m\u001b[1;33m(\u001b[0m\u001b[1;33m)\u001b[0m\u001b[1;33m)\u001b[0m\u001b[1;33m\u001b[0m\u001b[1;33m\u001b[0m\u001b[0m\n\u001b[0;32m      3\u001b[0m \u001b[0mprint\u001b[0m\u001b[1;33m(\u001b[0m\u001b[1;34m\"Average USD:\"\u001b[0m\u001b[1;33m,\u001b[0m\u001b[0mdf\u001b[0m\u001b[1;33m[\u001b[0m\u001b[1;34m\"Курс\"\u001b[0m\u001b[1;33m]\u001b[0m\u001b[1;33m.\u001b[0m\u001b[0mmean\u001b[0m\u001b[1;33m(\u001b[0m\u001b[1;33m)\u001b[0m\u001b[1;33m)\u001b[0m\u001b[1;33m\u001b[0m\u001b[1;33m\u001b[0m\u001b[0m\n",
      "\u001b[1;31mNameError\u001b[0m: name 'df' is not defined"
     ]
    }
   ],
   "source": [
    "print(\"Maximum USD:\",df[\"Курс\"].max())\n",
    "print(\"Minimum USD:\",df[\"Курс\"].min())\n",
    "print(\"Average USD:\",df[\"Курс\"].mean())"
   ]
  },
  {
   "cell_type": "code",
   "execution_count": null,
   "id": "df0f0fb0-64cc-4a3d-98f7-3adce99e6260",
   "metadata": {},
   "outputs": [],
   "source": [
    "df1 = pd.read_csv('Excel-evro (2).csv')"
   ]
  },
  {
   "cell_type": "code",
   "execution_count": null,
   "id": "0492e26f-8713-495c-9690-48f6e58b4a03",
   "metadata": {},
   "outputs": [],
   "source": [
    "print(\"Maximum EVRO:\",df1[\"Курс\"].max())\n",
    "print(\"Minimum EVRO:\",df1[\"Курс\"].min())\n",
    "print(\"Average EVRO:\",df1[\"Курс\"].mean())"
   ]
  },
  {
   "cell_type": "code",
   "execution_count": null,
   "id": "7dcdcfde-5d48-4a35-97b6-0c82d3e74603",
   "metadata": {},
   "outputs": [],
   "source": [
    "import pandas as pd\n",
    "#import matplotlib.pyplot.xticks\n",
    "import matplotlib.pyplot as plt"
   ]
  },
  {
   "cell_type": "code",
   "execution_count": 93,
   "id": "07369a91-a797-46d8-9f8e-225bffccad23",
   "metadata": {},
   "outputs": [],
   "source": [
    "df3 = pd.read_csv('Книга2usd.csv')"
   ]
  },
  {
   "cell_type": "code",
   "execution_count": 94,
   "id": "c5b020f0-2cf9-4090-bfd5-d3129dda2cef",
   "metadata": {},
   "outputs": [],
   "source": [
    "df = pd.read_csv('Excel.csv')"
   ]
  },
  {
   "cell_type": "code",
   "execution_count": 98,
   "id": "91145ce3-7f91-4628-a7d8-6f77869c9895",
   "metadata": {},
   "outputs": [
    {
     "data": {
      "text/plain": [
       "([<matplotlib.axis.XTick at 0x23210a6c2e0>,\n",
       "  <matplotlib.axis.XTick at 0x23210a6c100>,\n",
       "  <matplotlib.axis.XTick at 0x23210a5ee50>,\n",
       "  <matplotlib.axis.XTick at 0x23210a91fd0>,\n",
       "  <matplotlib.axis.XTick at 0x23210a9e520>,\n",
       "  <matplotlib.axis.XTick at 0x23210a9ea30>,\n",
       "  <matplotlib.axis.XTick at 0x23210a9ef40>,\n",
       "  <matplotlib.axis.XTick at 0x23210a9e6a0>,\n",
       "  <matplotlib.axis.XTick at 0x23210aa52e0>,\n",
       "  <matplotlib.axis.XTick at 0x23210aa57f0>,\n",
       "  <matplotlib.axis.XTick at 0x23210aa5d00>,\n",
       "  <matplotlib.axis.XTick at 0x23210aab250>],\n",
       " [Text(0, 1, 'Январь'),\n",
       "  Text(1, 1, 'Февраль'),\n",
       "  Text(2, 1, 'Март'),\n",
       "  Text(3, 1, 'Апрель'),\n",
       "  Text(4, 1, 'Май'),\n",
       "  Text(5, 1, 'Июнь'),\n",
       "  Text(6, 1, 'Июль'),\n",
       "  Text(7, 1, 'Aвгуст'),\n",
       "  Text(8, 1, 'Сентябрь'),\n",
       "  Text(9, 1, 'Октябрь'),\n",
       "  Text(10, 1, 'Ноябрь'),\n",
       "  Text(11, 1, 'Декабрь')])"
      ]
     },
     "execution_count": 98,
     "metadata": {},
     "output_type": "execute_result"
    },
    {
     "data": {
      "image/png": "[encoded data removed]",
      "text/plain": [
       "<Figure size 1080x360 with 2 Axes>"
      ]
     },
     "metadata": {
      "needs_background": "light"
     },
     "output_type": "display_data"
    }
   ],
   "source": [
    "fig, x1 = plt.subplots(1, 1, figsize=(15,5))\n",
    "plt.title(\"Month\")\n",
    "plt.xlabel(\"DAYS\")\n",
    "plt.ylabel(\"COURSE $\")\n",
    "x1.plot(df['Курс'],color = 'y',label = \"EVRO days\" )\n",
    "x2 = x1.twiny()\n",
    "x2.plot(df3['Unnamed: 1'],marker = 'o',color = 'r',label = \"EVRO month\")\n",
    "plt.xticks(np.arange(0,len(df4[\"Name_of_month\"])),df4[\"Name_of_month\"])"
   ]
  },
  {
   "cell_type": "code",
   "execution_count": 96,
   "id": "545433fb-6cb9-48e2-b116-eb8461200b12",
   "metadata": {},
   "outputs": [
    {
     "data": {
      "text/html": [
       "<div>\n",
       "<style scoped>\n",
       "    .dataframe tbody tr th:only-of-type {\n",
       "        vertical-align: middle;\n",
       "    }\n",
       "\n",
       "    .dataframe tbody tr th {\n",
       "        vertical-align: top;\n",
       "    }\n",
       "\n",
       "    .dataframe thead th {\n",
       "        text-align: right;\n",
       "    }\n",
       "</style>\n",
       "<table border=\"1\" class=\"dataframe\">\n",
       "  <thead>\n",
       "    <tr style=\"text-align: right;\">\n",
       "      <th></th>\n",
       "      <th>USD</th>\n",
       "      <th>Unnamed: 1</th>\n",
       "    </tr>\n",
       "  </thead>\n",
       "  <tbody>\n",
       "    <tr>\n",
       "      <th>0</th>\n",
       "      <td>Jan-20</td>\n",
       "      <td>379.032258</td>\n",
       "    </tr>\n",
       "    <tr>\n",
       "      <th>1</th>\n",
       "      <td>Feb-20</td>\n",
       "      <td>377.739000</td>\n",
       "    </tr>\n",
       "    <tr>\n",
       "      <th>2</th>\n",
       "      <td>Mar-20</td>\n",
       "      <td>415.178000</td>\n",
       "    </tr>\n",
       "    <tr>\n",
       "      <th>3</th>\n",
       "      <td>Apr-20</td>\n",
       "      <td>431.909000</td>\n",
       "    </tr>\n",
       "    <tr>\n",
       "      <th>4</th>\n",
       "      <td>May-20</td>\n",
       "      <td>418.663000</td>\n",
       "    </tr>\n",
       "    <tr>\n",
       "      <th>5</th>\n",
       "      <td>Jun-20</td>\n",
       "      <td>402.326700</td>\n",
       "    </tr>\n",
       "    <tr>\n",
       "      <th>6</th>\n",
       "      <td>Jul-20</td>\n",
       "      <td>411.348000</td>\n",
       "    </tr>\n",
       "    <tr>\n",
       "      <th>7</th>\n",
       "      <td>Aug-20</td>\n",
       "      <td>418.673000</td>\n",
       "    </tr>\n",
       "    <tr>\n",
       "      <th>8</th>\n",
       "      <td>Sep-20</td>\n",
       "      <td>423.774000</td>\n",
       "    </tr>\n",
       "    <tr>\n",
       "      <th>9</th>\n",
       "      <td>Oct-20</td>\n",
       "      <td>429.125000</td>\n",
       "    </tr>\n",
       "    <tr>\n",
       "      <th>10</th>\n",
       "      <td>Nov-20</td>\n",
       "      <td>428.937000</td>\n",
       "    </tr>\n",
       "    <tr>\n",
       "      <th>11</th>\n",
       "      <td>Dec-20</td>\n",
       "      <td>424.589000</td>\n",
       "    </tr>\n",
       "  </tbody>\n",
       "</table>\n",
       "</div>"
      ],
      "text/plain": [
       "       USD  Unnamed: 1\n",
       "0   Jan-20  379.032258\n",
       "1   Feb-20  377.739000\n",
       "2   Mar-20  415.178000\n",
       "3   Apr-20  431.909000\n",
       "4   May-20  418.663000\n",
       "5   Jun-20  402.326700\n",
       "6   Jul-20  411.348000\n",
       "7   Aug-20  418.673000\n",
       "8   Sep-20  423.774000\n",
       "9   Oct-20  429.125000\n",
       "10  Nov-20  428.937000\n",
       "11  Dec-20  424.589000"
      ]
     },
     "execution_count": 96,
     "metadata": {},
     "output_type": "execute_result"
    }
   ],
   "source": [
    "df3"
   ]
  },
  {
   "cell_type": "code",
   "execution_count": 17,
   "id": "b6f85e8c-e8ed-43f3-a079-350e6cacf4a0",
   "metadata": {},
   "outputs": [],
   "source": [
    "df4 = pd.read_csv('Книга3evro.csv')"
   ]
  },
  {
   "cell_type": "code",
   "execution_count": 18,
   "id": "95bc0e67-8066-4595-ae2a-6e409464b3da",
   "metadata": {},
   "outputs": [],
   "source": [
    "df1 = pd.read_csv('Excel-evro (2).csv')"
   ]
  },
  {
   "cell_type": "code",
   "execution_count": 91,
   "id": "cf3b93df-517d-4516-a57d-790111928e61",
   "metadata": {},
   "outputs": [
    {
     "data": {
      "text/plain": [
       "[<matplotlib.lines.Line2D at 0x23210752160>]"
      ]
     },
     "execution_count": 91,
     "metadata": {},
     "output_type": "execute_result"
    },
    {
     "data": {
      "image/png": "[encoded data removed]",
      "text/plain": [
       "<Figure size 1080x360 with 2 Axes>"
      ]
     },
     "metadata": {
      "needs_background": "light"
     },
     "output_type": "display_data"
    }
   ],
   "source": [
    "import numpy as np\n",
    "figer, x3 = plt.subplots(1, 1, figsize=(15,5))\n",
    "\n",
    "x4 = x3.twiny()\n",
    "x3.plot(df1['Курс'],color = 'g',label = month_order)\n",
    "\n",
    "x4.plot(df4['Unnamed: 1'],color = 'r',marker = 'o',label = month_order)\n",
    "\n",
    "# x4.set_xticklabels(month_order)\n",
    "\n",
    "# x4.set_xticks(df4[\"Name_of_month\"])\n"
   ]
  },
  {
   "cell_type": "code",
   "execution_count": 14,
   "id": "0acd2048-3894-4f4b-b120-5f6bb0df710b",
   "metadata": {},
   "outputs": [
    {
     "ename": "NameError",
     "evalue": "name 'df4' is not defined",
     "output_type": "error",
     "traceback": [
      "\u001b[1;31m---------------------------------------------------------------------------\u001b[0m",
      "\u001b[1;31mNameError\u001b[0m                                 Traceback (most recent call last)",
      "\u001b[1;32m<ipython-input-14-e9ae58f210e4>\u001b[0m in \u001b[0;36m<module>\u001b[1;34m\u001b[0m\n\u001b[1;32m----> 1\u001b[1;33m \u001b[0mdf4\u001b[0m\u001b[1;33m\u001b[0m\u001b[1;33m\u001b[0m\u001b[0m\n\u001b[0m",
      "\u001b[1;31mNameError\u001b[0m: name 'df4' is not defined"
     ]
    }
   ],
   "source": []
  },
  {
   "cell_type": "code",
   "execution_count": 21,
   "id": "45a14029-8318-4503-b1b7-8dd9e680b0d2",
   "metadata": {},
   "outputs": [],
   "source": [
    "df4 = df4[1:]"
   ]
  },
  {
   "cell_type": "code",
   "execution_count": 39,
   "id": "6e77c2ac-4abc-4e42-ac22-53ce109a1270",
   "metadata": {},
   "outputs": [
    {
     "name": "stderr",
     "output_type": "stream",
     "text": [
      "<ipython-input-39-9c493d8af367>:2: SettingWithCopyWarning: \n",
      "A value is trying to be set on a copy of a slice from a DataFrame.\n",
      "Try using .loc[row_indexer,col_indexer] = value instead\n",
      "\n",
      "See the caveats in the documentation: https://pandas.pydata.org/pandas-docs/stable/user_guide/indexing.html#returning-a-view-versus-a-copy\n",
      "  df4[\"Name_of_month\"] = month_order\n"
     ]
    }
   ],
   "source": [
    "month_order = [\"Январь\",\"Февраль\",\"Март\",\"Апрель\",\"Май\",\"Июнь\",\"Июль\",\"Aвгуст\",\"Сентябрь\",\"Октябрь\",\"Ноябрь\",\"Декабрь\"]\n",
    "df4[\"Name_of_month\"] = month_order"
   ]
  },
  {
   "cell_type": "code",
   "execution_count": 24,
   "id": "1b00fd85-0ea4-4763-99ff-46d35c3557b0",
   "metadata": {},
   "outputs": [
    {
     "data": {
      "text/html": [
       "<div>\n",
       "<style scoped>\n",
       "    .dataframe tbody tr th:only-of-type {\n",
       "        vertical-align: middle;\n",
       "    }\n",
       "\n",
       "    .dataframe tbody tr th {\n",
       "        vertical-align: top;\n",
       "    }\n",
       "\n",
       "    .dataframe thead th {\n",
       "        text-align: right;\n",
       "    }\n",
       "</style>\n",
       "<table border=\"1\" class=\"dataframe\">\n",
       "  <thead>\n",
       "    <tr style=\"text-align: right;\">\n",
       "      <th></th>\n",
       "      <th>EVRO</th>\n",
       "      <th>Unnamed: 1</th>\n",
       "      <th>Name_of_month</th>\n",
       "    </tr>\n",
       "  </thead>\n",
       "  <tbody>\n",
       "    <tr>\n",
       "      <th>1</th>\n",
       "      <td>43831.0</td>\n",
       "      <td>421.298065</td>\n",
       "      <td>Январь</td>\n",
       "    </tr>\n",
       "    <tr>\n",
       "      <th>2</th>\n",
       "      <td>43862.0</td>\n",
       "      <td>412.149310</td>\n",
       "      <td>Февраль</td>\n",
       "    </tr>\n",
       "    <tr>\n",
       "      <th>3</th>\n",
       "      <td>43891.0</td>\n",
       "      <td>458.428000</td>\n",
       "      <td>Март</td>\n",
       "    </tr>\n",
       "    <tr>\n",
       "      <th>4</th>\n",
       "      <td>43922.0</td>\n",
       "      <td>471.408330</td>\n",
       "      <td>Апрель</td>\n",
       "    </tr>\n",
       "    <tr>\n",
       "      <th>5</th>\n",
       "      <td>43952.0</td>\n",
       "      <td>455.733000</td>\n",
       "      <td>Май</td>\n",
       "    </tr>\n",
       "    <tr>\n",
       "      <th>6</th>\n",
       "      <td>43983.0</td>\n",
       "      <td>452.867330</td>\n",
       "      <td>Июнь</td>\n",
       "    </tr>\n",
       "    <tr>\n",
       "      <th>7</th>\n",
       "      <td>44013.0</td>\n",
       "      <td>469.676000</td>\n",
       "      <td>Июль</td>\n",
       "    </tr>\n",
       "    <tr>\n",
       "      <th>8</th>\n",
       "      <td>44044.0</td>\n",
       "      <td>494.845000</td>\n",
       "      <td>Aвгуст</td>\n",
       "    </tr>\n",
       "    <tr>\n",
       "      <th>9</th>\n",
       "      <td>44075.0</td>\n",
       "      <td>500.106000</td>\n",
       "      <td>Сентябрь</td>\n",
       "    </tr>\n",
       "    <tr>\n",
       "      <th>10</th>\n",
       "      <td>44105.0</td>\n",
       "      <td>504.882000</td>\n",
       "      <td>Октябрь</td>\n",
       "    </tr>\n",
       "    <tr>\n",
       "      <th>11</th>\n",
       "      <td>44136.0</td>\n",
       "      <td>507.249000</td>\n",
       "      <td>Ноябрь</td>\n",
       "    </tr>\n",
       "    <tr>\n",
       "      <th>12</th>\n",
       "      <td>44166.0</td>\n",
       "      <td>511.031000</td>\n",
       "      <td>Декабрь</td>\n",
       "    </tr>\n",
       "  </tbody>\n",
       "</table>\n",
       "</div>"
      ],
      "text/plain": [
       "       EVRO  Unnamed: 1 Name_of_month\n",
       "1   43831.0  421.298065        Январь\n",
       "2   43862.0  412.149310       Февраль\n",
       "3   43891.0  458.428000          Март\n",
       "4   43922.0  471.408330        Апрель\n",
       "5   43952.0  455.733000           Май\n",
       "6   43983.0  452.867330          Июнь\n",
       "7   44013.0  469.676000          Июль\n",
       "8   44044.0  494.845000        Aвгуст\n",
       "9   44075.0  500.106000      Сентябрь\n",
       "10  44105.0  504.882000       Октябрь\n",
       "11  44136.0  507.249000        Ноябрь\n",
       "12  44166.0  511.031000       Декабрь"
      ]
     },
     "execution_count": 24,
     "metadata": {},
     "output_type": "execute_result"
    }
   ],
   "source": [
    "df4"
   ]
  },
  {
   "cell_type": "code",
   "execution_count": 43,
   "id": "5521a6c7-16a3-4bdd-98a4-2fe29797ec1a",
   "metadata": {},
   "outputs": [
    {
     "data": {
      "text/html": [
       "<div>\n",
       "<style scoped>\n",
       "    .dataframe tbody tr th:only-of-type {\n",
       "        vertical-align: middle;\n",
       "    }\n",
       "\n",
       "    .dataframe tbody tr th {\n",
       "        vertical-align: top;\n",
       "    }\n",
       "\n",
       "    .dataframe thead th {\n",
       "        text-align: right;\n",
       "    }\n",
       "</style>\n",
       "<table border=\"1\" class=\"dataframe\">\n",
       "  <thead>\n",
       "    <tr style=\"text-align: right;\">\n",
       "      <th></th>\n",
       "      <th>Курс</th>\n",
       "      <th>Дата</th>\n",
       "    </tr>\n",
       "  </thead>\n",
       "  <tbody>\n",
       "    <tr>\n",
       "      <th>0</th>\n",
       "      <td>NaN</td>\n",
       "      <td>NaN</td>\n",
       "    </tr>\n",
       "    <tr>\n",
       "      <th>1</th>\n",
       "      <td>426.85</td>\n",
       "      <td>1/1/2020</td>\n",
       "    </tr>\n",
       "    <tr>\n",
       "      <th>2</th>\n",
       "      <td>429.00</td>\n",
       "      <td>1/2/2020</td>\n",
       "    </tr>\n",
       "    <tr>\n",
       "      <th>3</th>\n",
       "      <td>429.00</td>\n",
       "      <td>1/3/2020</td>\n",
       "    </tr>\n",
       "    <tr>\n",
       "      <th>4</th>\n",
       "      <td>429.00</td>\n",
       "      <td>1/4/2020</td>\n",
       "    </tr>\n",
       "    <tr>\n",
       "      <th>...</th>\n",
       "      <td>...</td>\n",
       "      <td>...</td>\n",
       "    </tr>\n",
       "    <tr>\n",
       "      <th>363</th>\n",
       "      <td>511.08</td>\n",
       "      <td>12/28/2020</td>\n",
       "    </tr>\n",
       "    <tr>\n",
       "      <th>364</th>\n",
       "      <td>514.26</td>\n",
       "      <td>12/29/2020</td>\n",
       "    </tr>\n",
       "    <tr>\n",
       "      <th>365</th>\n",
       "      <td>515.00</td>\n",
       "      <td>12/30/2020</td>\n",
       "    </tr>\n",
       "    <tr>\n",
       "      <th>366</th>\n",
       "      <td>516.13</td>\n",
       "      <td>12/31/2020</td>\n",
       "    </tr>\n",
       "    <tr>\n",
       "      <th>367</th>\n",
       "      <td>516.79</td>\n",
       "      <td>1/1/2021</td>\n",
       "    </tr>\n",
       "  </tbody>\n",
       "</table>\n",
       "<p>368 rows × 2 columns</p>\n",
       "</div>"
      ],
      "text/plain": [
       "       Курс        Дата\n",
       "0       NaN         NaN\n",
       "1    426.85    1/1/2020\n",
       "2    429.00    1/2/2020\n",
       "3    429.00    1/3/2020\n",
       "4    429.00    1/4/2020\n",
       "..      ...         ...\n",
       "363  511.08  12/28/2020\n",
       "364  514.26  12/29/2020\n",
       "365  515.00  12/30/2020\n",
       "366  516.13  12/31/2020\n",
       "367  516.79    1/1/2021\n",
       "\n",
       "[368 rows x 2 columns]"
      ]
     },
     "execution_count": 43,
     "metadata": {},
     "output_type": "execute_result"
    }
   ],
   "source": []
  },
  {
   "cell_type": "code",
   "execution_count": null,
   "id": "b00eed09-68d8-4326-98c9-192cdc8eee56",
   "metadata": {},
   "outputs": [],
   "source": []
  },
  {
   "cell_type": "code",
   "execution_count": 19,
   "id": "fbb5a090-b1fd-4bcc-9eb9-f201baf2ae29",
   "metadata": {},
   "outputs": [],
   "source": [
    "length  = {\n",
    "    \"a0\":[0.16722672],\n",
    "    \"a1\":[0.66554655],\n",
    "    \"a2\":[0.16722672]\n",
    "    \n",
    "}"
   ]
  },
  {
   "cell_type": "code",
   "execution_count": 20,
   "id": "0f249797-102c-4608-99e7-1a8c91fa64da",
   "metadata": {},
   "outputs": [],
   "source": [
    "import pandas as pd"
   ]
  },
  {
   "cell_type": "code",
   "execution_count": 21,
   "id": "c9dce3fd-1489-4f1c-bca7-9c9f10f89483",
   "metadata": {},
   "outputs": [],
   "source": [
    "df5 = pd.DataFrame(length )"
   ]
  },
  {
   "cell_type": "code",
   "execution_count": 28,
   "id": "945d1b91-917b-4f14-a988-2ccced18fab8",
   "metadata": {},
   "outputs": [
    {
     "data": {
      "text/html": [
       "<div>\n",
       "<style scoped>\n",
       "    .dataframe tbody tr th:only-of-type {\n",
       "        vertical-align: middle;\n",
       "    }\n",
       "\n",
       "    .dataframe tbody tr th {\n",
       "        vertical-align: top;\n",
       "    }\n",
       "\n",
       "    .dataframe thead th {\n",
       "        text-align: right;\n",
       "    }\n",
       "</style>\n",
       "<table border=\"1\" class=\"dataframe\">\n",
       "  <thead>\n",
       "    <tr style=\"text-align: right;\">\n",
       "      <th></th>\n",
       "      <th>a0</th>\n",
       "      <th>a1</th>\n",
       "      <th>a2</th>\n",
       "    </tr>\n",
       "  </thead>\n",
       "  <tbody>\n",
       "    <tr>\n",
       "      <th>0</th>\n",
       "      <td>0.167227</td>\n",
       "      <td>0.665547</td>\n",
       "      <td>0.167227</td>\n",
       "    </tr>\n",
       "  </tbody>\n",
       "</table>\n",
       "</div>"
      ],
      "text/plain": [
       "         a0        a1        a2\n",
       "0  0.167227  0.665547  0.167227"
      ]
     },
     "execution_count": 28,
     "metadata": {},
     "output_type": "execute_result"
    }
   ],
   "source": [
    "df5"
   ]
  },
  {
   "cell_type": "code",
   "execution_count": 29,
   "id": "e143e240-44c0-40e1-815a-1aa47c44a999",
   "metadata": {},
   "outputs": [],
   "source": [
    "filter = (df5['a0'] == '0.167227')"
   ]
  },
  {
   "cell_type": "code",
   "execution_count": 30,
   "id": "e72b3b1f-7a7a-47bb-bfd2-158d87e4e683",
   "metadata": {},
   "outputs": [
    {
     "data": {
      "text/html": [
       "<div>\n",
       "<style scoped>\n",
       "    .dataframe tbody tr th:only-of-type {\n",
       "        vertical-align: middle;\n",
       "    }\n",
       "\n",
       "    .dataframe tbody tr th {\n",
       "        vertical-align: top;\n",
       "    }\n",
       "\n",
       "    .dataframe thead th {\n",
       "        text-align: right;\n",
       "    }\n",
       "</style>\n",
       "<table border=\"1\" class=\"dataframe\">\n",
       "  <thead>\n",
       "    <tr style=\"text-align: right;\">\n",
       "      <th></th>\n",
       "      <th>a0</th>\n",
       "      <th>a1</th>\n",
       "      <th>a2</th>\n",
       "    </tr>\n",
       "  </thead>\n",
       "  <tbody>\n",
       "    <tr>\n",
       "      <th>0</th>\n",
       "      <td>0.167227</td>\n",
       "      <td>0.665547</td>\n",
       "      <td>0.167227</td>\n",
       "    </tr>\n",
       "  </tbody>\n",
       "</table>\n",
       "</div>"
      ],
      "text/plain": [
       "         a0        a1        a2\n",
       "0  0.167227  0.665547  0.167227"
      ]
     },
     "execution_count": 30,
     "metadata": {},
     "output_type": "execute_result"
    }
   ],
   "source": [
    "df5[filter]"
   ]
  },
  {
   "cell_type": "code",
   "execution_count": 31,
   "id": "4ccbfce4-803e-4f81-ba00-296b1a9e8a39",
   "metadata": {},
   "outputs": [
    {
     "data": {
      "text/html": [
       "<div>\n",
       "<style scoped>\n",
       "    .dataframe tbody tr th:only-of-type {\n",
       "        vertical-align: middle;\n",
       "    }\n",
       "\n",
       "    .dataframe tbody tr th {\n",
       "        vertical-align: top;\n",
       "    }\n",
       "\n",
       "    .dataframe thead th {\n",
       "        text-align: right;\n",
       "    }\n",
       "</style>\n",
       "<table border=\"1\" class=\"dataframe\">\n",
       "  <thead>\n",
       "    <tr style=\"text-align: right;\">\n",
       "      <th></th>\n",
       "      <th>a0</th>\n",
       "      <th>a1</th>\n",
       "      <th>a2</th>\n",
       "    </tr>\n",
       "  </thead>\n",
       "  <tbody>\n",
       "    <tr>\n",
       "      <th>0</th>\n",
       "      <td>0.167227</td>\n",
       "      <td>0.665547</td>\n",
       "      <td>0.167227</td>\n",
       "    </tr>\n",
       "  </tbody>\n",
       "</table>\n",
       "</div>"
      ],
      "text/plain": [
       "         a0        a1        a2\n",
       "0  0.167227  0.665547  0.167227"
      ]
     },
     "execution_count": 31,
     "metadata": {},
     "output_type": "execute_result"
    }
   ],
   "source": [
    "df5.loc[filter]"
   ]
  },
  {
   "cell_type": "code",
   "execution_count": null,
   "id": "73eafe57-c0fb-4300-a29f-ec4dc2296797",
   "metadata": {},
   "outputs": [],
   "source": []
  },
  {
   "cell_type": "code",
   "execution_count": null,
   "id": "3bffca2f-fd8e-4add-aba1-72d8bcf9ae83",
   "metadata": {},
   "outputs": [],
   "source": []
  },
  {
   "cell_type": "code",
   "execution_count": null,
   "id": "c79f755a-1ca7-45d1-92c8-5683951d9e72",
   "metadata": {},
   "outputs": [],
   "source": []
  }
 ],
 "metadata": {
  "kernelspec": {
   "display_name": "Python 3",
   "language": "python",
   "name": "python3"
  },
  "language_info": {
   "codemirror_mode": {
    "name": "ipython",
    "version": 3
   },
   "file_extension": ".py",
   "mimetype": "text/x-python",
   "name": "python",
   "nbconvert_exporter": "python",
   "pygments_lexer": "ipython3",
   "version": "3.8.8"
  }
 },
 "nbformat": 4,
 "nbformat_minor": 5
}
